{
 "cells": [
  {
   "cell_type": "markdown",
   "id": "a9fadb39",
   "metadata": {},
   "source": [
    "# پروژه دانشگاهی: تحلیل داده‌ها با استفاده از درخت تصمیم در دیتاست Iris"
   ]
  },
  {
   "cell_type": "markdown",
   "id": "29e059a1",
   "metadata": {},
   "source": [
    "در این پروژه، ما با استفاده از الگوریتم درخت تصمیم داده‌های مجموعه‌ی Iris را تحلیل می‌کنیم. این پروژه شامل بارگذاری داده‌ها، ساخت و ارزیابی مدل‌های درخت تصمیم با معیارهای اطلاعاتی مختلف و تنظیم پارامترهای مدل برای بهینه‌سازی است. هدف از این پروژه بهبود دقت مدل با استفاده از روش‌های Hold-out و Cross-Validation است."
   ]
  },
  {
   "cell_type": "code",
   "execution_count": null,
   "id": "2ff40924",
   "metadata": {},
   "outputs": [],
   "source": [
    "\n",
    "import pandas as pd\n",
    "from sklearn.model_selection import train_test_split, cross_val_score\n",
    "from sklearn.tree import DecisionTreeClassifier, plot_tree\n",
    "from sklearn.metrics import accuracy_score, confusion_matrix, classification_report\n",
    "from sklearn.model_selection import GridSearchCV\n",
    "import matplotlib.pyplot as plt\n",
    "import seaborn as sns\n"
   ]
  },
  {
   "cell_type": "markdown",
   "id": "a97647e7",
   "metadata": {},
   "source": [
    "## ۱. بارگذاری مجموعه داده"
   ]
  },
  {
   "cell_type": "markdown",
   "id": "cc62fe05",
   "metadata": {},
   "source": [
    "در این بخش از دیتاست معروف Iris استفاده می‌کنیم که شامل ۱۵۰ نمونه از سه گونه گل با ویژگی‌های مختلف است. در این مجموعه داده، هدف ما تشخیص گونه‌های مختلف بر اساس ویژگی‌های طول و عرض کاسبرگ و گلبرگ است."
   ]
  },
  {
   "cell_type": "code",
   "execution_count": null,
   "id": "bf4344f9",
   "metadata": {},
   "outputs": [],
   "source": [
    "\n",
    "# بارگذاری داده‌ها و جداسازی ویژگی‌ها از متغیر هدف\n",
    "data = sns.load_dataset(\"iris\")  # مثال با دیتاست Iris\n",
    "X = data.drop(columns=\"species\")  # ویژگی‌ها\n",
    "y = data[\"species\"]               # متغیر هدف\n"
   ]
  },
  {
   "cell_type": "markdown",
   "id": "321bdeef",
   "metadata": {},
   "source": [
    "## ۲. تقسیم‌بندی داده‌ها به بخش‌های آموزشی و آزمون"
   ]
  },
  {
   "cell_type": "markdown",
   "id": "3ee14df8",
   "metadata": {},
   "source": [
    "با استفاده از روش Hold-out، داده‌ها را به دو بخش آموزشی (۸۰٪) و آزمون (۲۰٪) تقسیم می‌کنیم."
   ]
  },
  {
   "cell_type": "code",
   "execution_count": null,
   "id": "90a1236b",
   "metadata": {},
   "outputs": [],
   "source": [
    "\n",
    "# تقسیم‌بندی داده‌ها به بخش‌های آموزشی و آزمون\n",
    "X_train, X_test, y_train, y_test = train_test_split(X, y, test_size=0.2, random_state=42)\n"
   ]
  },
  {
   "cell_type": "markdown",
   "id": "7174a9ff",
   "metadata": {},
   "source": [
    "## ۳. ایجاد مدل درخت تصمیم با معیارهای مختلف"
   ]
  },
  {
   "cell_type": "markdown",
   "id": "e4e5035e",
   "metadata": {},
   "source": [
    "در این بخش، دو مدل درخت تصمیم با معیارهای `Gini` و `Information Gain` (معیار `entropy`) ایجاد می‌کنیم تا تفاوت عملکرد آنها را بررسی کنیم."
   ]
  },
  {
   "cell_type": "code",
   "execution_count": null,
   "id": "9690b51b",
   "metadata": {},
   "outputs": [],
   "source": [
    "\n",
    "# ایجاد مدل درخت تصمیم با معیارهای Gini و Entropy\n",
    "tree_gini = DecisionTreeClassifier(criterion=\"gini\", random_state=42)\n",
    "tree_entropy = DecisionTreeClassifier(criterion=\"entropy\", random_state=42)\n",
    "\n",
    "tree_gini.fit(X_train, y_train)\n",
    "tree_entropy.fit(X_train, y_train)\n"
   ]
  },
  {
   "cell_type": "markdown",
   "id": "3d32c20f",
   "metadata": {},
   "source": [
    "## ۴. تنظیم پارامترهای مدل برای بهینه‌سازی"
   ]
  },
  {
   "cell_type": "markdown",
   "id": "bd1a7408",
   "metadata": {},
   "source": [
    "در این بخش با استفاده از `GridSearchCV` پارامترهای مدل را تنظیم می‌کنیم تا بهینه‌ترین مدل با دقت بالا به دست آید. این شامل محدودیت عمق درخت و حداقل تعداد نمونه‌های برگ است."
   ]
  },
  {
   "cell_type": "code",
   "execution_count": null,
   "id": "4e63a089",
   "metadata": {},
   "outputs": [],
   "source": [
    "\n",
    "# تنظیم پارامترهای مدل برای بهینه‌سازی\n",
    "param_grid = {\n",
    "    'max_depth': [3, 5, 7, None],\n",
    "    'min_samples_leaf': [1, 5, 10]\n",
    "}\n",
    "grid_search = GridSearchCV(DecisionTreeClassifier(random_state=42), param_grid, cv=10)\n",
    "grid_search.fit(X_train, y_train)\n",
    "best_tree = grid_search.best_estimator_\n"
   ]
  },
  {
   "cell_type": "markdown",
   "id": "6e20f34c",
   "metadata": {},
   "source": [
    "## ۵. ارزیابی مدل‌ها و محاسبه دقت و ماتریس درهم‌ریختگی"
   ]
  },
  {
   "cell_type": "markdown",
   "id": "11a60db4",
   "metadata": {},
   "source": [
    "با استفاده از مدل‌های ایجاد شده و مدل بهینه، دقت مدل‌ها را محاسبه می‌کنیم و ماتریس درهم‌ریختگی مدل بهینه را نمایش می‌دهیم."
   ]
  },
  {
   "cell_type": "code",
   "execution_count": null,
   "id": "5fe50182",
   "metadata": {},
   "outputs": [],
   "source": [
    "\n",
    "# ارزیابی مدل‌ها و محاسبه دقت و ماتریس درهم‌ریختگی\n",
    "y_pred_gini = tree_gini.predict(X_test)\n",
    "y_pred_entropy = tree_entropy.predict(X_test)\n",
    "y_pred_best = best_tree.predict(X_test)\n",
    "\n",
    "print(\"دقت مدل Gini:\", accuracy_score(y_test, y_pred_gini))\n",
    "print(\"دقت مدل Entropy:\", accuracy_score(y_test, y_pred_entropy))\n",
    "print(\"دقت مدل بهینه:\", accuracy_score(y_test, y_pred_best))\n",
    "\n",
    "# ماتریس درهم‌ریختگی\n",
    "conf_matrix = confusion_matrix(y_test, y_pred_best)\n",
    "sns.heatmap(conf_matrix, annot=True, cmap=\"Blues\", fmt=\"d\")\n",
    "plt.title(\"ماتریس درهم‌ریختگی مدل بهینه\")\n",
    "plt.show()\n"
   ]
  },
  {
   "cell_type": "markdown",
   "id": "433d8aa8",
   "metadata": {},
   "source": [
    "## ۶. گزارش دسته‌بندی"
   ]
  },
  {
   "cell_type": "markdown",
   "id": "74641bea",
   "metadata": {},
   "source": [
    "گزارش دسته‌بندی شامل دقت، بازیابی و نمره F1 برای مدل بهینه است."
   ]
  },
  {
   "cell_type": "code",
   "execution_count": null,
   "id": "8abc1c8f",
   "metadata": {},
   "outputs": [],
   "source": [
    "\n",
    "# گزارش دسته‌بندی\n",
    "print(classification_report(y_test, y_pred_best))\n"
   ]
  },
  {
   "cell_type": "markdown",
   "id": "33d24869",
   "metadata": {},
   "source": [
    "## ۷. پیش‌بینی متغیر پاسخ برای داده‌های آزمون با استفاده از Cross-Validation"
   ]
  },
  {
   "cell_type": "markdown",
   "id": "969b067b",
   "metadata": {},
   "source": [
    "در این مرحله با استفاده از `Cross-Validation` دقت میانگین مدل بهینه را به دست می‌آوریم و نتایج Hold-out و Cross-Validation را مقایسه می‌کنیم."
   ]
  },
  {
   "cell_type": "code",
   "execution_count": null,
   "id": "9e0950db",
   "metadata": {},
   "outputs": [],
   "source": [
    "\n",
    "# پیش‌بینی متغیر پاسخ برای داده‌های آزمون با استفاده از Cross-Validation\n",
    "cross_val_scores = cross_val_score(best_tree, X, y, cv=10)\n",
    "print(\"دقت 10-Fold Cross-Validation:\", cross_val_scores.mean())\n",
    "\n",
    "# مقایسه نتایج Hold-Out و Cross-Validation\n",
    "print(\"دقت Hold-Out:\", accuracy_score(y_test, y_pred_best))\n",
    "print(\"میانگین دقت Cross-Validation:\", cross_val_scores.mean())\n"
   ]
  },
  {
   "cell_type": "markdown",
   "id": "48f31e31",
   "metadata": {},
   "source": [
    "## ۸. نمایش درخت تصمیم بهینه"
   ]
  },
  {
   "cell_type": "markdown",
   "id": "3eadc292",
   "metadata": {},
   "source": [
    "در نهایت، درخت تصمیم بهینه را به صورت گرافیکی نمایش می‌دهیم تا دید بهتری از مدل داشته باشیم."
   ]
  },
  {
   "cell_type": "code",
   "execution_count": null,
   "id": "cd98ab5b",
   "metadata": {},
   "outputs": [],
   "source": [
    "\n",
    "# نمایش درخت تصمیم بهینه\n",
    "plt.figure(figsize=(20, 10))\n",
    "plot_tree(best_tree, filled=True, feature_names=X.columns, class_names=best_tree.classes_)\n",
    "plt.title(\"درخت تصمیم بهینه\")\n",
    "plt.show()\n"
   ]
  }
 ],
 "metadata": {},
 "nbformat": 4,
 "nbformat_minor": 5
}
